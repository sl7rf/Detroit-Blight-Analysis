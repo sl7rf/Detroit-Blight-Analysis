{
 "cells": [
  {
   "cell_type": "code",
   "execution_count": 28,
   "metadata": {
    "collapsed": false
   },
   "outputs": [
    {
     "name": "stdout",
     "output_type": "stream",
     "text": [
      "Populating the interactive namespace from numpy and matplotlib\n"
     ]
    }
   ],
   "source": [
    "%pylab inline\n",
    "import numpy as np\n",
    "import pandas as pd\n",
    "import seaborn as sns\n",
    "\n",
    "from sklearn.cluster import DBSCAN\n",
    "from geopy.distance import great_circle\n",
    "from shapely.geometry import MultiPoint"
   ]
  },
  {
   "cell_type": "code",
   "execution_count": 29,
   "metadata": {
    "collapsed": false
   },
   "outputs": [
    {
     "name": "stdout",
     "output_type": "stream",
     "text": [
      "/Users/sasali/Documents/Coursera/Capstone Project Detroit/data\n"
     ]
    }
   ],
   "source": [
    "import os\n",
    "print(os.getcwd())"
   ]
  },
  {
   "cell_type": "code",
   "execution_count": 30,
   "metadata": {
    "collapsed": false
   },
   "outputs": [],
   "source": [
    "os.chdir('/Users/sasali/Documents/Coursera/Capstone Project Detroit/data/')"
   ]
  },
  {
   "cell_type": "code",
   "execution_count": 31,
   "metadata": {
    "collapsed": false
   },
   "outputs": [],
   "source": [
    "# Load extracted feature data\n",
    "temp_list = pd.read_csv('temp_list.csv')"
   ]
  },
  {
   "cell_type": "code",
   "execution_count": 32,
   "metadata": {
    "collapsed": false
   },
   "outputs": [
    {
     "data": {
      "text/html": [
       "<div>\n",
       "<table border=\"1\" class=\"dataframe\">\n",
       "  <thead>\n",
       "    <tr style=\"text-align: right;\">\n",
       "      <th></th>\n",
       "      <th>Unnamed: 0</th>\n",
       "      <th>Id</th>\n",
       "      <th>Lat</th>\n",
       "      <th>Lon</th>\n",
       "    </tr>\n",
       "  </thead>\n",
       "  <tbody>\n",
       "    <tr>\n",
       "      <th>0</th>\n",
       "      <td>1</td>\n",
       "      <td>1</td>\n",
       "      <td>42.369786</td>\n",
       "      <td>-83.216326</td>\n",
       "    </tr>\n",
       "    <tr>\n",
       "      <th>1</th>\n",
       "      <td>2</td>\n",
       "      <td>2</td>\n",
       "      <td>42.325449</td>\n",
       "      <td>-83.064139</td>\n",
       "    </tr>\n",
       "    <tr>\n",
       "      <th>2</th>\n",
       "      <td>3</td>\n",
       "      <td>3</td>\n",
       "      <td>42.411997</td>\n",
       "      <td>-83.167339</td>\n",
       "    </tr>\n",
       "    <tr>\n",
       "      <th>3</th>\n",
       "      <td>4</td>\n",
       "      <td>4</td>\n",
       "      <td>42.441234</td>\n",
       "      <td>-83.219551</td>\n",
       "    </tr>\n",
       "    <tr>\n",
       "      <th>4</th>\n",
       "      <td>5</td>\n",
       "      <td>5</td>\n",
       "      <td>42.341516</td>\n",
       "      <td>-83.087758</td>\n",
       "    </tr>\n",
       "  </tbody>\n",
       "</table>\n",
       "</div>"
      ],
      "text/plain": [
       "   Unnamed: 0  Id        Lat        Lon\n",
       "0           1   1  42.369786 -83.216326\n",
       "1           2   2  42.325449 -83.064139\n",
       "2           3   3  42.411997 -83.167339\n",
       "3           4   4  42.441234 -83.219551\n",
       "4           5   5  42.341516 -83.087758"
      ]
     },
     "execution_count": 32,
     "metadata": {},
     "output_type": "execute_result"
    }
   ],
   "source": [
    "temp_list.head(5)"
   ]
  },
  {
   "cell_type": "markdown",
   "metadata": {},
   "source": [
    "Set eps=50 meters max distance that points can be from each other to be considered a cluster;\n",
    "Set min_samples to 1 so that every data point gets assigned to either a cluster or forms its own cluster of 1. Nothing will be classified as noise."
   ]
  },
  {
   "cell_type": "code",
   "execution_count": 33,
   "metadata": {
    "collapsed": false
   },
   "outputs": [],
   "source": [
    "coords = temp_list.as_matrix(columns=['Lat', 'Lon'])"
   ]
  },
  {
   "cell_type": "code",
   "execution_count": 34,
   "metadata": {
    "collapsed": false
   },
   "outputs": [
    {
     "name": "stdout",
     "output_type": "stream",
     "text": [
      "Number of clusters: 39529\n"
     ]
    }
   ],
   "source": [
    "ms_per_radian = 6371008.8\n",
    "epsilon = 30/ms_per_radian \n",
    "db = DBSCAN(eps=epsilon, min_samples=1, algorithm='ball_tree', metric='haversine',n_jobs=4).fit(np.radians(coords))\n",
    "cluster_labels = db.labels_\n",
    "num_clusters = len(set(cluster_labels))\n",
    "clusters = pd.Series([coords[cluster_labels == n] for n in range(num_clusters)])\n",
    "print('Number of clusters: {}'.format(num_clusters))"
   ]
  },
  {
   "cell_type": "code",
   "execution_count": 66,
   "metadata": {
    "collapsed": false
   },
   "outputs": [],
   "source": [
    "temp_list['cluster_id'] = cluster_labels+1"
   ]
  },
  {
   "cell_type": "code",
   "execution_count": 67,
   "metadata": {
    "collapsed": false
   },
   "outputs": [
    {
     "data": {
      "text/html": [
       "<div>\n",
       "<table border=\"1\" class=\"dataframe\">\n",
       "  <thead>\n",
       "    <tr style=\"text-align: right;\">\n",
       "      <th></th>\n",
       "      <th>Unnamed: 0</th>\n",
       "      <th>Id</th>\n",
       "      <th>Lat</th>\n",
       "      <th>Lon</th>\n",
       "      <th>cluster_id</th>\n",
       "    </tr>\n",
       "  </thead>\n",
       "  <tbody>\n",
       "    <tr>\n",
       "      <th>0</th>\n",
       "      <td>1</td>\n",
       "      <td>1</td>\n",
       "      <td>42.369786</td>\n",
       "      <td>-83.216326</td>\n",
       "      <td>1</td>\n",
       "    </tr>\n",
       "    <tr>\n",
       "      <th>1</th>\n",
       "      <td>2</td>\n",
       "      <td>2</td>\n",
       "      <td>42.325449</td>\n",
       "      <td>-83.064139</td>\n",
       "      <td>2</td>\n",
       "    </tr>\n",
       "    <tr>\n",
       "      <th>2</th>\n",
       "      <td>3</td>\n",
       "      <td>3</td>\n",
       "      <td>42.411997</td>\n",
       "      <td>-83.167339</td>\n",
       "      <td>3</td>\n",
       "    </tr>\n",
       "    <tr>\n",
       "      <th>3</th>\n",
       "      <td>4</td>\n",
       "      <td>4</td>\n",
       "      <td>42.441234</td>\n",
       "      <td>-83.219551</td>\n",
       "      <td>4</td>\n",
       "    </tr>\n",
       "    <tr>\n",
       "      <th>4</th>\n",
       "      <td>5</td>\n",
       "      <td>5</td>\n",
       "      <td>42.341516</td>\n",
       "      <td>-83.087758</td>\n",
       "      <td>5</td>\n",
       "    </tr>\n",
       "  </tbody>\n",
       "</table>\n",
       "</div>"
      ],
      "text/plain": [
       "   Unnamed: 0  Id        Lat        Lon  cluster_id\n",
       "0           1   1  42.369786 -83.216326           1\n",
       "1           2   2  42.325449 -83.064139           2\n",
       "2           3   3  42.411997 -83.167339           3\n",
       "3           4   4  42.441234 -83.219551           4\n",
       "4           5   5  42.341516 -83.087758           5"
      ]
     },
     "execution_count": 67,
     "metadata": {},
     "output_type": "execute_result"
    }
   ],
   "source": [
    "temp_list.head(5)"
   ]
  },
  {
   "cell_type": "code",
   "execution_count": 68,
   "metadata": {
    "collapsed": true
   },
   "outputs": [],
   "source": [
    "temp_list.to_csv('../data/building_list.csv', index=False)"
   ]
  },
  {
   "cell_type": "code",
   "execution_count": 35,
   "metadata": {
    "collapsed": false
   },
   "outputs": [],
   "source": [
    "def get_centermost_point(cluster):\n",
    "    centroid = (MultiPoint(cluster).centroid.x, MultiPoint(cluster).centroid.y)\n",
    "    centermost_point = min(cluster, key=lambda point: great_circle(point, centroid).m)\n",
    "    return tuple(centermost_point)\n",
    "centermost_points = clusters.map(get_centermost_point)"
   ]
  },
  {
   "cell_type": "code",
   "execution_count": 36,
   "metadata": {
    "collapsed": true
   },
   "outputs": [],
   "source": [
    "lats, lons = zip(*centermost_points)\n",
    "rep_points = pd.DataFrame({'lon':lons, 'lat':lats})"
   ]
  },
  {
   "cell_type": "code",
   "execution_count": 69,
   "metadata": {
    "collapsed": false
   },
   "outputs": [],
   "source": [
    "rep_points.to_csv('../data/cluster_list.csv', index=True)"
   ]
  },
  {
   "cell_type": "code",
   "execution_count": null,
   "metadata": {
    "collapsed": false
   },
   "outputs": [],
   "source": []
  },
  {
   "cell_type": "code",
   "execution_count": 37,
   "metadata": {
    "collapsed": false
   },
   "outputs": [
    {
     "data": {
      "text/html": [
       "<div>\n",
       "<table border=\"1\" class=\"dataframe\">\n",
       "  <thead>\n",
       "    <tr style=\"text-align: right;\">\n",
       "      <th></th>\n",
       "      <th>lat</th>\n",
       "      <th>lon</th>\n",
       "    </tr>\n",
       "  </thead>\n",
       "  <tbody>\n",
       "    <tr>\n",
       "      <th>0</th>\n",
       "      <td>42.369786</td>\n",
       "      <td>-83.216326</td>\n",
       "    </tr>\n",
       "    <tr>\n",
       "      <th>1</th>\n",
       "      <td>42.325700</td>\n",
       "      <td>-83.064300</td>\n",
       "    </tr>\n",
       "    <tr>\n",
       "      <th>2</th>\n",
       "      <td>42.411997</td>\n",
       "      <td>-83.167339</td>\n",
       "    </tr>\n",
       "    <tr>\n",
       "      <th>3</th>\n",
       "      <td>42.441070</td>\n",
       "      <td>-83.219404</td>\n",
       "    </tr>\n",
       "    <tr>\n",
       "      <th>4</th>\n",
       "      <td>42.341343</td>\n",
       "      <td>-83.087699</td>\n",
       "    </tr>\n",
       "    <tr>\n",
       "      <th>5</th>\n",
       "      <td>42.323726</td>\n",
       "      <td>-83.081573</td>\n",
       "    </tr>\n",
       "    <tr>\n",
       "      <th>6</th>\n",
       "      <td>42.330432</td>\n",
       "      <td>-83.088302</td>\n",
       "    </tr>\n",
       "    <tr>\n",
       "      <th>7</th>\n",
       "      <td>42.341719</td>\n",
       "      <td>-83.114206</td>\n",
       "    </tr>\n",
       "    <tr>\n",
       "      <th>8</th>\n",
       "      <td>42.337700</td>\n",
       "      <td>-83.112900</td>\n",
       "    </tr>\n",
       "    <tr>\n",
       "      <th>9</th>\n",
       "      <td>42.337800</td>\n",
       "      <td>-83.114300</td>\n",
       "    </tr>\n",
       "    <tr>\n",
       "      <th>10</th>\n",
       "      <td>42.337669</td>\n",
       "      <td>-83.115254</td>\n",
       "    </tr>\n",
       "    <tr>\n",
       "      <th>11</th>\n",
       "      <td>42.335920</td>\n",
       "      <td>-83.116328</td>\n",
       "    </tr>\n",
       "    <tr>\n",
       "      <th>12</th>\n",
       "      <td>42.351923</td>\n",
       "      <td>-83.049060</td>\n",
       "    </tr>\n",
       "    <tr>\n",
       "      <th>13</th>\n",
       "      <td>42.366827</td>\n",
       "      <td>-83.031442</td>\n",
       "    </tr>\n",
       "    <tr>\n",
       "      <th>14</th>\n",
       "      <td>42.326331</td>\n",
       "      <td>-83.065371</td>\n",
       "    </tr>\n",
       "    <tr>\n",
       "      <th>15</th>\n",
       "      <td>42.331681</td>\n",
       "      <td>-83.047996</td>\n",
       "    </tr>\n",
       "    <tr>\n",
       "      <th>16</th>\n",
       "      <td>42.382586</td>\n",
       "      <td>-83.211205</td>\n",
       "    </tr>\n",
       "    <tr>\n",
       "      <th>17</th>\n",
       "      <td>42.390190</td>\n",
       "      <td>-83.261393</td>\n",
       "    </tr>\n",
       "    <tr>\n",
       "      <th>18</th>\n",
       "      <td>42.386567</td>\n",
       "      <td>-83.036116</td>\n",
       "    </tr>\n",
       "    <tr>\n",
       "      <th>19</th>\n",
       "      <td>42.340792</td>\n",
       "      <td>-83.013804</td>\n",
       "    </tr>\n",
       "    <tr>\n",
       "      <th>20</th>\n",
       "      <td>42.335960</td>\n",
       "      <td>-83.053127</td>\n",
       "    </tr>\n",
       "    <tr>\n",
       "      <th>21</th>\n",
       "      <td>42.398017</td>\n",
       "      <td>-82.997243</td>\n",
       "    </tr>\n",
       "    <tr>\n",
       "      <th>22</th>\n",
       "      <td>42.297210</td>\n",
       "      <td>-83.116053</td>\n",
       "    </tr>\n",
       "    <tr>\n",
       "      <th>23</th>\n",
       "      <td>42.433903</td>\n",
       "      <td>-83.123108</td>\n",
       "    </tr>\n",
       "    <tr>\n",
       "      <th>24</th>\n",
       "      <td>42.292081</td>\n",
       "      <td>-83.134170</td>\n",
       "    </tr>\n",
       "    <tr>\n",
       "      <th>25</th>\n",
       "      <td>42.357922</td>\n",
       "      <td>-83.021164</td>\n",
       "    </tr>\n",
       "    <tr>\n",
       "      <th>26</th>\n",
       "      <td>42.363061</td>\n",
       "      <td>-83.145158</td>\n",
       "    </tr>\n",
       "    <tr>\n",
       "      <th>27</th>\n",
       "      <td>42.327223</td>\n",
       "      <td>-83.147687</td>\n",
       "    </tr>\n",
       "    <tr>\n",
       "      <th>28</th>\n",
       "      <td>42.375073</td>\n",
       "      <td>-83.114547</td>\n",
       "    </tr>\n",
       "    <tr>\n",
       "      <th>29</th>\n",
       "      <td>42.438629</td>\n",
       "      <td>-83.268823</td>\n",
       "    </tr>\n",
       "    <tr>\n",
       "      <th>...</th>\n",
       "      <td>...</td>\n",
       "      <td>...</td>\n",
       "    </tr>\n",
       "    <tr>\n",
       "      <th>39499</th>\n",
       "      <td>42.383388</td>\n",
       "      <td>-83.096840</td>\n",
       "    </tr>\n",
       "    <tr>\n",
       "      <th>39500</th>\n",
       "      <td>42.360409</td>\n",
       "      <td>-83.067162</td>\n",
       "    </tr>\n",
       "    <tr>\n",
       "      <th>39501</th>\n",
       "      <td>42.346458</td>\n",
       "      <td>-83.111229</td>\n",
       "    </tr>\n",
       "    <tr>\n",
       "      <th>39502</th>\n",
       "      <td>42.335751</td>\n",
       "      <td>-83.060622</td>\n",
       "    </tr>\n",
       "    <tr>\n",
       "      <th>39503</th>\n",
       "      <td>42.347203</td>\n",
       "      <td>-83.107618</td>\n",
       "    </tr>\n",
       "    <tr>\n",
       "      <th>39504</th>\n",
       "      <td>42.325520</td>\n",
       "      <td>-83.053661</td>\n",
       "    </tr>\n",
       "    <tr>\n",
       "      <th>39505</th>\n",
       "      <td>42.364386</td>\n",
       "      <td>-83.260508</td>\n",
       "    </tr>\n",
       "    <tr>\n",
       "      <th>39506</th>\n",
       "      <td>42.446315</td>\n",
       "      <td>-83.126393</td>\n",
       "    </tr>\n",
       "    <tr>\n",
       "      <th>39507</th>\n",
       "      <td>42.417048</td>\n",
       "      <td>-83.153916</td>\n",
       "    </tr>\n",
       "    <tr>\n",
       "      <th>39508</th>\n",
       "      <td>42.353787</td>\n",
       "      <td>-83.172691</td>\n",
       "    </tr>\n",
       "    <tr>\n",
       "      <th>39509</th>\n",
       "      <td>42.356140</td>\n",
       "      <td>-83.077435</td>\n",
       "    </tr>\n",
       "    <tr>\n",
       "      <th>39510</th>\n",
       "      <td>42.352566</td>\n",
       "      <td>-83.064201</td>\n",
       "    </tr>\n",
       "    <tr>\n",
       "      <th>39511</th>\n",
       "      <td>42.353817</td>\n",
       "      <td>-83.067042</td>\n",
       "    </tr>\n",
       "    <tr>\n",
       "      <th>39512</th>\n",
       "      <td>42.354489</td>\n",
       "      <td>-83.070361</td>\n",
       "    </tr>\n",
       "    <tr>\n",
       "      <th>39513</th>\n",
       "      <td>42.356818</td>\n",
       "      <td>-83.074431</td>\n",
       "    </tr>\n",
       "    <tr>\n",
       "      <th>39514</th>\n",
       "      <td>42.362861</td>\n",
       "      <td>-83.070586</td>\n",
       "    </tr>\n",
       "    <tr>\n",
       "      <th>39515</th>\n",
       "      <td>42.354825</td>\n",
       "      <td>-83.073524</td>\n",
       "    </tr>\n",
       "    <tr>\n",
       "      <th>39516</th>\n",
       "      <td>42.354012</td>\n",
       "      <td>-83.055420</td>\n",
       "    </tr>\n",
       "    <tr>\n",
       "      <th>39517</th>\n",
       "      <td>42.353436</td>\n",
       "      <td>-83.055740</td>\n",
       "    </tr>\n",
       "    <tr>\n",
       "      <th>39518</th>\n",
       "      <td>42.349245</td>\n",
       "      <td>-83.055909</td>\n",
       "    </tr>\n",
       "    <tr>\n",
       "      <th>39519</th>\n",
       "      <td>42.442207</td>\n",
       "      <td>-83.278826</td>\n",
       "    </tr>\n",
       "    <tr>\n",
       "      <th>39520</th>\n",
       "      <td>42.315991</td>\n",
       "      <td>-83.084082</td>\n",
       "    </tr>\n",
       "    <tr>\n",
       "      <th>39521</th>\n",
       "      <td>42.328090</td>\n",
       "      <td>-83.044881</td>\n",
       "    </tr>\n",
       "    <tr>\n",
       "      <th>39522</th>\n",
       "      <td>42.421809</td>\n",
       "      <td>-83.104761</td>\n",
       "    </tr>\n",
       "    <tr>\n",
       "      <th>39523</th>\n",
       "      <td>42.387029</td>\n",
       "      <td>-83.003576</td>\n",
       "    </tr>\n",
       "    <tr>\n",
       "      <th>39524</th>\n",
       "      <td>42.344703</td>\n",
       "      <td>-83.113914</td>\n",
       "    </tr>\n",
       "    <tr>\n",
       "      <th>39525</th>\n",
       "      <td>42.312558</td>\n",
       "      <td>-83.141303</td>\n",
       "    </tr>\n",
       "    <tr>\n",
       "      <th>39526</th>\n",
       "      <td>42.349794</td>\n",
       "      <td>-83.081770</td>\n",
       "    </tr>\n",
       "    <tr>\n",
       "      <th>39527</th>\n",
       "      <td>42.386369</td>\n",
       "      <td>-83.084113</td>\n",
       "    </tr>\n",
       "    <tr>\n",
       "      <th>39528</th>\n",
       "      <td>42.443231</td>\n",
       "      <td>-83.122442</td>\n",
       "    </tr>\n",
       "  </tbody>\n",
       "</table>\n",
       "<p>39529 rows × 2 columns</p>\n",
       "</div>"
      ],
      "text/plain": [
       "             lat        lon\n",
       "0      42.369786 -83.216326\n",
       "1      42.325700 -83.064300\n",
       "2      42.411997 -83.167339\n",
       "3      42.441070 -83.219404\n",
       "4      42.341343 -83.087699\n",
       "5      42.323726 -83.081573\n",
       "6      42.330432 -83.088302\n",
       "7      42.341719 -83.114206\n",
       "8      42.337700 -83.112900\n",
       "9      42.337800 -83.114300\n",
       "10     42.337669 -83.115254\n",
       "11     42.335920 -83.116328\n",
       "12     42.351923 -83.049060\n",
       "13     42.366827 -83.031442\n",
       "14     42.326331 -83.065371\n",
       "15     42.331681 -83.047996\n",
       "16     42.382586 -83.211205\n",
       "17     42.390190 -83.261393\n",
       "18     42.386567 -83.036116\n",
       "19     42.340792 -83.013804\n",
       "20     42.335960 -83.053127\n",
       "21     42.398017 -82.997243\n",
       "22     42.297210 -83.116053\n",
       "23     42.433903 -83.123108\n",
       "24     42.292081 -83.134170\n",
       "25     42.357922 -83.021164\n",
       "26     42.363061 -83.145158\n",
       "27     42.327223 -83.147687\n",
       "28     42.375073 -83.114547\n",
       "29     42.438629 -83.268823\n",
       "...          ...        ...\n",
       "39499  42.383388 -83.096840\n",
       "39500  42.360409 -83.067162\n",
       "39501  42.346458 -83.111229\n",
       "39502  42.335751 -83.060622\n",
       "39503  42.347203 -83.107618\n",
       "39504  42.325520 -83.053661\n",
       "39505  42.364386 -83.260508\n",
       "39506  42.446315 -83.126393\n",
       "39507  42.417048 -83.153916\n",
       "39508  42.353787 -83.172691\n",
       "39509  42.356140 -83.077435\n",
       "39510  42.352566 -83.064201\n",
       "39511  42.353817 -83.067042\n",
       "39512  42.354489 -83.070361\n",
       "39513  42.356818 -83.074431\n",
       "39514  42.362861 -83.070586\n",
       "39515  42.354825 -83.073524\n",
       "39516  42.354012 -83.055420\n",
       "39517  42.353436 -83.055740\n",
       "39518  42.349245 -83.055909\n",
       "39519  42.442207 -83.278826\n",
       "39520  42.315991 -83.084082\n",
       "39521  42.328090 -83.044881\n",
       "39522  42.421809 -83.104761\n",
       "39523  42.387029 -83.003576\n",
       "39524  42.344703 -83.113914\n",
       "39525  42.312558 -83.141303\n",
       "39526  42.349794 -83.081770\n",
       "39527  42.386369 -83.084113\n",
       "39528  42.443231 -83.122442\n",
       "\n",
       "[39529 rows x 2 columns]"
      ]
     },
     "execution_count": 37,
     "metadata": {},
     "output_type": "execute_result"
    }
   ],
   "source": [
    "rep_points"
   ]
  },
  {
   "cell_type": "code",
   "execution_count": 38,
   "metadata": {
    "collapsed": false
   },
   "outputs": [
    {
     "data": {
      "text/plain": [
       "<seaborn.axisgrid.FacetGrid at 0x119bfc4a8>"
      ]
     },
     "execution_count": 38,
     "metadata": {},
     "output_type": "execute_result"
    },
    {
     "data": {
      "image/png": "[encoded data removed]",
      "text/plain": [
       "<matplotlib.figure.Figure at 0x119bc7780>"
      ]
     },
     "metadata": {},
     "output_type": "display_data"
    }
   ],
   "source": [
    "sns.lmplot('lon', 'lat', data=rep_points, fit_reg=False, size=10)"
   ]
  },
  {
   "cell_type": "code",
   "execution_count": null,
   "metadata": {
    "collapsed": true
   },
   "outputs": [],
   "source": []
  }
 ],
 "metadata": {
  "kernelspec": {
   "display_name": "Python [conda root]",
   "language": "python",
   "name": "conda-root-py"
  },
  "language_info": {
   "codemirror_mode": {
    "name": "ipython",
    "version": 3
   },
   "file_extension": ".py",
   "mimetype": "text/x-python",
   "name": "python",
   "nbconvert_exporter": "python",
   "pygments_lexer": "ipython3",
   "version": "3.5.2"
  }
 },
 "nbformat": 4,
 "nbformat_minor": 2
}
